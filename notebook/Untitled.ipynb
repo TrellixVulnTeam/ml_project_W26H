{
 "cells": [
  {
   "cell_type": "code",
   "execution_count": 1,
   "metadata": {},
   "outputs": [],
   "source": [
    "import pandas as pd"
   ]
  },
  {
   "cell_type": "code",
   "execution_count": 2,
   "id": "09acfffe",
   "metadata": {},
   "outputs": [],
   "source": [
    "da={\"a\":[1,2,3]}"
   ]
  },
  {
   "cell_type": "code",
   "execution_count": 3,
   "id": "5d96c8ba",
   "metadata": {},
   "outputs": [],
   "source": [
    "df=pd.DataFrame(da)"
   ]
  },
  {
   "cell_type": "code",
   "execution_count": 4,
   "id": "5422324a",
   "metadata": {},
   "outputs": [],
   "source": [
    "df=df.astype('str')"
   ]
  },
  {
   "cell_type": "code",
   "execution_count": 5,
   "id": "df4cba4e",
   "metadata": {},
   "outputs": [
    {
     "data": {
      "text/html": [
       "<div>\n",
       "<style scoped>\n",
       "    .dataframe tbody tr th:only-of-type {\n",
       "        vertical-align: middle;\n",
       "    }\n",
       "\n",
       "    .dataframe tbody tr th {\n",
       "        vertical-align: top;\n",
       "    }\n",
       "\n",
       "    .dataframe thead th {\n",
       "        text-align: right;\n",
       "    }\n",
       "</style>\n",
       "<table border=\"1\" class=\"dataframe\">\n",
       "  <thead>\n",
       "    <tr style=\"text-align: right;\">\n",
       "      <th></th>\n",
       "      <th>a</th>\n",
       "    </tr>\n",
       "  </thead>\n",
       "  <tbody>\n",
       "    <tr>\n",
       "      <th>0</th>\n",
       "      <td>1 1</td>\n",
       "    </tr>\n",
       "    <tr>\n",
       "      <th>1</th>\n",
       "      <td>2 2</td>\n",
       "    </tr>\n",
       "    <tr>\n",
       "      <th>2</th>\n",
       "      <td>3 3</td>\n",
       "    </tr>\n",
       "  </tbody>\n",
       "</table>\n",
       "</div>"
      ],
      "text/plain": [
       "     a\n",
       "0  1 1\n",
       "1  2 2\n",
       "2  3 3"
      ]
     },
     "execution_count": 5,
     "metadata": {},
     "output_type": "execute_result"
    }
   ],
   "source": [
    "df+\" \"+df"
   ]
  },
  {
   "cell_type": "code",
   "execution_count": 1,
   "id": "654b3846",
   "metadata": {},
   "outputs": [],
   "source": [
    "import os"
   ]
  },
  {
   "cell_type": "code",
   "execution_count": 2,
   "id": "0c222c34",
   "metadata": {},
   "outputs": [
    {
     "data": {
      "text/plain": [
       "['20220829214934',\n",
       " '20220912192438',\n",
       " '20220906210608',\n",
       " '20220831214322',\n",
       " '20220906122604',\n",
       " '20220906185657',\n",
       " '20220909093402',\n",
       " '20220906184748',\n",
       " '20220906202916',\n",
       " '20220906204406',\n",
       " '20220901112334',\n",
       " '20220901144924',\n",
       " '20220906121019']"
      ]
     },
     "execution_count": 2,
     "metadata": {},
     "output_type": "execute_result"
    }
   ],
   "source": [
    "os.listdir(\"/home/honey/Desktop/Ineuron_ML_Project/ml_project/saved_models\")"
   ]
  },
  {
   "cell_type": "code",
   "execution_count": 3,
   "id": "bf27e90f",
   "metadata": {},
   "outputs": [
    {
     "data": {
      "text/plain": [
       "[20220829214934,\n",
       " 20220912192438,\n",
       " 20220906210608,\n",
       " 20220831214322,\n",
       " 20220906122604,\n",
       " 20220906185657,\n",
       " 20220909093402,\n",
       " 20220906184748,\n",
       " 20220906202916,\n",
       " 20220906204406,\n",
       " 20220901112334,\n",
       " 20220901144924,\n",
       " 20220906121019]"
      ]
     },
     "execution_count": 3,
     "metadata": {},
     "output_type": "execute_result"
    }
   ],
   "source": [
    "# map() convert string into integers. \n",
    "list(map(int, os.listdir(\"/home/honey/Desktop/Ineuron_ML_Project/ml_project/saved_models\")))"
   ]
  },
  {
   "cell_type": "code",
   "execution_count": 4,
   "id": "462accd8",
   "metadata": {},
   "outputs": [],
   "source": [
    "folder_name = list(map(int, os.listdir(\"/home/honey/Desktop/Ineuron_ML_Project/ml_project/saved_models\")))"
   ]
  },
  {
   "cell_type": "code",
   "execution_count": 8,
   "id": "12f5f8d4",
   "metadata": {},
   "outputs": [
    {
     "data": {
      "text/plain": [
       "'20220912192438'"
      ]
     },
     "execution_count": 8,
     "metadata": {},
     "output_type": "execute_result"
    }
   ],
   "source": [
    "f\"{max(folder_name)}\""
   ]
  }
 ],
 "metadata": {
  "kernelspec": {
   "display_name": "Python 3.7.13 (conda)",
   "language": "python",
   "name": "python3"
  },
  "language_info": {
   "codemirror_mode": {
    "name": "ipython",
    "version": 3
   },
   "file_extension": ".py",
   "mimetype": "text/x-python",
   "name": "python",
   "nbconvert_exporter": "python",
   "pygments_lexer": "ipython3",
   "version": "3.7.13"
  },
  "vscode": {
   "interpreter": {
    "hash": "ad8b97c174d96cf2c331a7e088d126d0135e9718da0e021e345400d664984eec"
   }
  }
 },
 "nbformat": 4,
 "nbformat_minor": 5
}
