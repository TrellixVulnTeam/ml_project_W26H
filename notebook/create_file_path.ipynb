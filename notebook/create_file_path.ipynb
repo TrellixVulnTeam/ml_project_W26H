{
 "cells": [
  {
   "cell_type": "markdown",
   "metadata": {},
   "source": [
    "# Create a file path"
   ]
  },
  {
   "cell_type": "code",
   "execution_count": 6,
   "metadata": {},
   "outputs": [],
   "source": [
    "import os"
   ]
  },
  {
   "cell_type": "code",
   "execution_count": 7,
   "metadata": {},
   "outputs": [
    {
     "data": {
      "text/plain": [
       "'/home/honey/Desktop/Ineuron_ML_Project/ml_project'"
      ]
     },
     "execution_count": 7,
     "metadata": {},
     "output_type": "execute_result"
    }
   ],
   "source": [
    "os.getcwd()"
   ]
  },
  {
   "cell_type": "code",
   "execution_count": 8,
   "metadata": {},
   "outputs": [],
   "source": [
    "os.chdir(\"/home/honey/Desktop/Ineuron_ML_Project/ml_project\")"
   ]
  },
  {
   "cell_type": "code",
   "execution_count": 9,
   "metadata": {},
   "outputs": [
    {
     "data": {
      "text/plain": [
       "'/home/honey/Desktop/Ineuron_ML_Project/ml_project'"
      ]
     },
     "execution_count": 9,
     "metadata": {},
     "output_type": "execute_result"
    }
   ],
   "source": [
    "os.getcwd()\n"
   ]
  },
  {
   "cell_type": "code",
   "execution_count": 10,
   "metadata": {},
   "outputs": [
    {
     "data": {
      "text/plain": [
       "['build',\n",
       " 'housing',\n",
       " 'setup.py',\n",
       " 'Dockerfile',\n",
       " '.gitignore',\n",
       " 'app.py',\n",
       " '.github',\n",
       " 'LICENSE',\n",
       " 'requirements.txt',\n",
       " 'README.md',\n",
       " '__pycache__',\n",
       " '.git',\n",
       " 'housing_logs',\n",
       " 'notebook',\n",
       " 'venv',\n",
       " '.dockerignore',\n",
       " 'dist',\n",
       " 'housing_predictor.egg-info',\n",
       " 'config']"
      ]
     },
     "execution_count": 10,
     "metadata": {},
     "output_type": "execute_result"
    }
   ],
   "source": [
    "# see all the folders and files present in the 'ml_project' folder.\n",
    "os.listdir()"
   ]
  },
  {
   "cell_type": "code",
   "execution_count": 11,
   "metadata": {},
   "outputs": [
    {
     "data": {
      "text/plain": [
       "['build',\n",
       " 'housing',\n",
       " 'setup.py',\n",
       " 'Dockerfile',\n",
       " '.gitignore',\n",
       " 'app.py',\n",
       " '.github',\n",
       " 'LICENSE',\n",
       " 'requirements.txt',\n",
       " 'README.md',\n",
       " '__pycache__',\n",
       " '.git',\n",
       " 'housing_logs',\n",
       " 'notebook',\n",
       " 'venv',\n",
       " '.dockerignore',\n",
       " 'dist',\n",
       " 'housing_predictor.egg-info',\n",
       " 'config']"
      ]
     },
     "execution_count": 11,
     "metadata": {},
     "output_type": "execute_result"
    }
   ],
   "source": [
    "# To see all the files and folders available in the current folder.\n",
    "os.listdir(\".\")"
   ]
  },
  {
   "cell_type": "code",
   "execution_count": 12,
   "metadata": {},
   "outputs": [
    {
     "data": {
      "text/plain": [
       "'config/config.yaml'"
      ]
     },
     "execution_count": 12,
     "metadata": {},
     "output_type": "execute_result"
    }
   ],
   "source": [
    "# preparing the file path for the file 'config.yaml' \n",
    "config_file_path = \"config/config.yaml\"\n",
    "config_file_path"
   ]
  },
  {
   "cell_type": "code",
   "execution_count": 13,
   "metadata": {},
   "outputs": [
    {
     "data": {
      "text/plain": [
       "'config/config.yaml'"
      ]
     },
     "execution_count": 13,
     "metadata": {},
     "output_type": "execute_result"
    }
   ],
   "source": [
    "# Do not create file path as above.     \n",
    "# Rather create file path as mentioned below. \n",
    "#  This way the file path is prepared as per the Operating System you are using.\n",
    "\n",
    "config_file_path = os.path.join(\"config\",\"config.yaml\")\n",
    "config_file_path"
   ]
  },
  {
   "cell_type": "code",
   "execution_count": 14,
   "metadata": {},
   "outputs": [
    {
     "data": {
      "text/plain": [
       "True"
      ]
     },
     "execution_count": 14,
     "metadata": {},
     "output_type": "execute_result"
    }
   ],
   "source": [
    "# To check whether the file config.yaml is available at the path or not\n",
    "os.path.exists(config_file_path)"
   ]
  }
 ],
 "metadata": {
  "kernelspec": {
   "display_name": "Python 3.7.13 (conda)",
   "language": "python",
   "name": "python3"
  },
  "language_info": {
   "codemirror_mode": {
    "name": "ipython",
    "version": 3
   },
   "file_extension": ".py",
   "mimetype": "text/x-python",
   "name": "python",
   "nbconvert_exporter": "python",
   "pygments_lexer": "ipython3",
   "version": "3.7.13"
  },
  "orig_nbformat": 4,
  "vscode": {
   "interpreter": {
    "hash": "ad8b97c174d96cf2c331a7e088d126d0135e9718da0e021e345400d664984eec"
   }
  }
 },
 "nbformat": 4,
 "nbformat_minor": 2
}
