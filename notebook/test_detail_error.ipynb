{
 "cells": [
  {
   "cell_type": "code",
   "execution_count": 14,
   "metadata": {},
   "outputs": [],
   "source": [
    "import os\n",
    "import sys"
   ]
  },
  {
   "cell_type": "code",
   "execution_count": 30,
   "metadata": {},
   "outputs": [],
   "source": [
    "def get_detailed_error_message(error_message:Exception,error_detail:sys)->str:\n",
    "        \"\"\"\n",
    "        error_message:Exception module object\n",
    "        error_detail: object of sys module\n",
    "        \"\"\"\n",
    "        _,_ ,exec_tb = error_detail.exc_info()\n",
    "        line_number = exec_tb.tb_frame.f_lineno\n",
    "        file_name = exec_tb.tb_frame.f_code.co_filename\n",
    "        error_message = f\"Error occured in script: [{file_name}] at line number: [{line_number}] error message: [{error_message}]\"\n",
    "        \n",
    "        print(type(error_detail.exc_info()))\n",
    "        print(dir(error_detail.exc_info()))\n",
    "        print(\"\\n\")\n",
    "        print(type(exec_tb))\n",
    "        print(dir(exec_tb))\n",
    "\n",
    "        return error_message"
   ]
  },
  {
   "cell_type": "code",
   "execution_count": 28,
   "metadata": {},
   "outputs": [],
   "source": [
    "def test_func():\n",
    "    try:\n",
    "        # created a custom exception intentionally\n",
    "        raise Exception(\"We are adding a number\")\n",
    "    \n",
    "    # created an object of housing custom exception class\n",
    "    except Exception as e:\n",
    "        # had we wanted to raise an exception here, we would have written:\n",
    "        # this line of code:-> \" raise HousingException(e,sys) from e \"\n",
    "        \n",
    "        # rather here just want to log the error  \n",
    "        detailed_error = get_detailed_error_message(e,sys)\n",
    "       \n",
    "      \n",
    "    return detailed_error"
   ]
  },
  {
   "cell_type": "code",
   "execution_count": 31,
   "metadata": {},
   "outputs": [
    {
     "name": "stdout",
     "output_type": "stream",
     "text": [
      "<class 'tuple'>\n",
      "['__add__', '__class__', '__contains__', '__delattr__', '__dir__', '__doc__', '__eq__', '__format__', '__ge__', '__getattribute__', '__getitem__', '__getnewargs__', '__gt__', '__hash__', '__init__', '__init_subclass__', '__iter__', '__le__', '__len__', '__lt__', '__mul__', '__ne__', '__new__', '__reduce__', '__reduce_ex__', '__repr__', '__rmul__', '__setattr__', '__sizeof__', '__str__', '__subclasshook__', 'count', 'index']\n",
      "\n",
      "\n",
      "<class 'traceback'>\n",
      "['tb_frame', 'tb_lasti', 'tb_lineno', 'tb_next']\n"
     ]
    },
    {
     "data": {
      "text/plain": [
       "'Error occured in script: [/tmp/ipykernel_41514/1571825664.py] at line number: [12] error message: [We are adding a number]'"
      ]
     },
     "execution_count": 31,
     "metadata": {},
     "output_type": "execute_result"
    }
   ],
   "source": [
    "test_func()"
   ]
  }
 ],
 "metadata": {
  "kernelspec": {
   "display_name": "Python 3.7.13 (conda)",
   "language": "python",
   "name": "python3"
  },
  "language_info": {
   "codemirror_mode": {
    "name": "ipython",
    "version": 3
   },
   "file_extension": ".py",
   "mimetype": "text/x-python",
   "name": "python",
   "nbconvert_exporter": "python",
   "pygments_lexer": "ipython3",
   "version": "3.7.13"
  },
  "orig_nbformat": 4,
  "vscode": {
   "interpreter": {
    "hash": "ad8b97c174d96cf2c331a7e088d126d0135e9718da0e021e345400d664984eec"
   }
  }
 },
 "nbformat": 4,
 "nbformat_minor": 2
}
