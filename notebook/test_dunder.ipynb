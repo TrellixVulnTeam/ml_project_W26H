{
 "cells": [
  {
   "cell_type": "code",
   "execution_count": null,
   "metadata": {},
   "outputs": [],
   "source": [
    "# 1. The output of __repr__() method is mainly used for debugging purposes. \n",
    "# Hence it is desired to be furnishing unambiguous representation of the object.\n",
    "\n",
    "# 2. Purpose of __str__() is informal in nature and human-readable in nature."
   ]
  },
  {
   "cell_type": "code",
   "execution_count": 1,
   "metadata": {},
   "outputs": [],
   "source": [
    "class Demo:\n",
    "    def __str__(self):\n",
    "        return \"Hello\"\n",
    "\n",
    "    def __repr__(self):\n",
    "        return \"Bye\""
   ]
  },
  {
   "cell_type": "code",
   "execution_count": 10,
   "metadata": {},
   "outputs": [],
   "source": [
    "new = Demo()\n"
   ]
  },
  {
   "cell_type": "code",
   "execution_count": 9,
   "metadata": {},
   "outputs": [
    {
     "name": "stdout",
     "output_type": "stream",
     "text": [
      "Hello\n"
     ]
    }
   ],
   "source": [
    "# Using print()\n",
    "# print(Demo())\n",
    "print(new)"
   ]
  },
  {
   "cell_type": "code",
   "execution_count": 11,
   "metadata": {},
   "outputs": [
    {
     "data": {
      "text/plain": [
       "Bye"
      ]
     },
     "execution_count": 11,
     "metadata": {},
     "output_type": "execute_result"
    }
   ],
   "source": [
    "# This is knowing about the object in debugging.\n",
    "# Demo()\n",
    "new"
   ]
  },
  {
   "cell_type": "markdown",
   "metadata": {},
   "source": [
    "# Ideally object representation should be written this way"
   ]
  },
  {
   "cell_type": "code",
   "execution_count": 21,
   "metadata": {},
   "outputs": [],
   "source": [
    "# So that one knows that how to create an object again anytime. \n",
    "# that is with what value, call the constructor of a class to create the same object\n",
    "class Demo:\n",
    "    def __init__(self,param1):\n",
    "        self.param1=param1\n",
    "    def __str__(self):\n",
    "        return \"Hello\"\n",
    "\n",
    "    def __repr__(self):\n",
    "        return f\"Demo(param1='{self.param1}')\""
   ]
  },
  {
   "cell_type": "code",
   "execution_count": 22,
   "metadata": {},
   "outputs": [],
   "source": [
    "old=Demo(\"honey\")"
   ]
  },
  {
   "cell_type": "code",
   "execution_count": 23,
   "metadata": {},
   "outputs": [
    {
     "data": {
      "text/plain": [
       "Demo(param1='honey')"
      ]
     },
     "execution_count": 23,
     "metadata": {},
     "output_type": "execute_result"
    }
   ],
   "source": [
    "old"
   ]
  },
  {
   "cell_type": "code",
   "execution_count": 27,
   "metadata": {},
   "outputs": [
    {
     "data": {
      "text/plain": [
       "Demo(param1='honey')"
      ]
     },
     "execution_count": 27,
     "metadata": {},
     "output_type": "execute_result"
    }
   ],
   "source": [
    "# Copy the result of above execution, and create the same object\n",
    "\n",
    "new = Demo(param1='honey')\n",
    "new"
   ]
  },
  {
   "cell_type": "markdown",
   "metadata": {},
   "source": [
    "# An Example"
   ]
  },
  {
   "cell_type": "code",
   "execution_count": 44,
   "metadata": {},
   "outputs": [],
   "source": [
    "class Demo:\n",
    "\n",
    "    def __str__(self):\n",
    "        return \"Hello\"\n",
    "\n",
    "    def __repr__(self):\n",
    "        return Demo.__name__"
   ]
  },
  {
   "cell_type": "code",
   "execution_count": 45,
   "metadata": {},
   "outputs": [
    {
     "data": {
      "text/plain": [
       "Demo"
      ]
     },
     "execution_count": 45,
     "metadata": {},
     "output_type": "execute_result"
    }
   ],
   "source": [
    "# for representation of the object, just gets the name of the class \n",
    "Demo()"
   ]
  }
 ],
 "metadata": {
  "kernelspec": {
   "display_name": "Python 3.7.13 (conda)",
   "language": "python",
   "name": "python3"
  },
  "language_info": {
   "codemirror_mode": {
    "name": "ipython",
    "version": 3
   },
   "file_extension": ".py",
   "mimetype": "text/x-python",
   "name": "python",
   "nbconvert_exporter": "python",
   "pygments_lexer": "ipython3",
   "version": "3.7.13"
  },
  "orig_nbformat": 4,
  "vscode": {
   "interpreter": {
    "hash": "ad8b97c174d96cf2c331a7e088d126d0135e9718da0e021e345400d664984eec"
   }
  }
 },
 "nbformat": 4,
 "nbformat_minor": 2
}
