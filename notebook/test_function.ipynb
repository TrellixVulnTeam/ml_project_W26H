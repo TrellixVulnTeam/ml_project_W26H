{
 "cells": [
  {
   "cell_type": "code",
   "execution_count": 23,
   "metadata": {},
   "outputs": [],
   "source": [
    "REQUIREMENT_FILE_NAME=\"../requirements.txt\"\n",
    "HYPHEN_E_DOT = \"-e .\""
   ]
  },
  {
   "cell_type": "code",
   "execution_count": 24,
   "metadata": {},
   "outputs": [],
   "source": [
    "def get_requirements_list():\n",
    "    \"\"\"\n",
    "    Description: This function is going to return list of requirement\n",
    "    mention in requirements.txt file\n",
    "    return This function is going to return a list which contain name\n",
    "    of libraries mentioned in requirements.txt file\n",
    "    \"\"\"\n",
    "    with open(REQUIREMENT_FILE_NAME) as requirement_file:\n",
    "        requirement_list = requirement_file.readlines()\n",
    "        requirement_list = [requirement_name.replace(\"\\n\", \"\") for requirement_name in requirement_list]\n",
    "        if HYPHEN_E_DOT in requirement_list:\n",
    "            requirement_list.remove(HYPHEN_E_DOT)\n",
    "        return requirement_list"
   ]
  },
  {
   "cell_type": "code",
   "execution_count": 25,
   "metadata": {},
   "outputs": [
    {
     "data": {
      "text/plain": [
       "['numpy',\n",
       " 'Flask',\n",
       " 'gunicorn',\n",
       " 'sklearn',\n",
       " 'pandas',\n",
       " 'PyYAML',\n",
       " 'evidently',\n",
       " 'dill',\n",
       " 'matplotlib']"
      ]
     },
     "execution_count": 25,
     "metadata": {},
     "output_type": "execute_result"
    }
   ],
   "source": [
    "get_requirements_list()"
   ]
  },
  {
   "cell_type": "code",
   "execution_count": null,
   "metadata": {},
   "outputs": [],
   "source": []
  }
 ],
 "metadata": {
  "kernelspec": {
   "display_name": "Python 3.7.0 (conda)",
   "language": "python",
   "name": "python3"
  },
  "language_info": {
   "codemirror_mode": {
    "name": "ipython",
    "version": 3
   },
   "file_extension": ".py",
   "mimetype": "text/x-python",
   "name": "python",
   "nbconvert_exporter": "python",
   "pygments_lexer": "ipython3",
   "version": "3.7.13"
  },
  "orig_nbformat": 4,
  "vscode": {
   "interpreter": {
    "hash": "ad8b97c174d96cf2c331a7e088d126d0135e9718da0e021e345400d664984eec"
   }
  }
 },
 "nbformat": 4,
 "nbformat_minor": 2
}
