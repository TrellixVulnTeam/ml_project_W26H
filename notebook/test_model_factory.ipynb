{
 "cells": [
  {
   "cell_type": "markdown",
   "metadata": {},
   "source": [
    "# Model_fatcory code"
   ]
  },
  {
   "cell_type": "code",
   "execution_count": 1,
   "metadata": {},
   "outputs": [],
   "source": [
    "from housing.entity.model_factory import ModelFactory,get_sample_model_config_yaml_file"
   ]
  },
  {
   "cell_type": "code",
   "execution_count": 2,
   "metadata": {},
   "outputs": [
    {
     "data": {
      "text/plain": [
       "'/home/honey/Desktop/Ineuron_ML_Project/ml_project/notebook'"
      ]
     },
     "execution_count": 2,
     "metadata": {},
     "output_type": "execute_result"
    }
   ],
   "source": [
    "os.getcwd()"
   ]
  },
  {
   "cell_type": "code",
   "execution_count": 6,
   "metadata": {},
   "outputs": [
    {
     "data": {
      "text/plain": [
       "'config/model.yaml'"
      ]
     },
     "execution_count": 6,
     "metadata": {},
     "output_type": "execute_result"
    }
   ],
   "source": [
    "# This returns a file 'model.yaml', export it and saves it at 'project -> notebook -> config'\n",
    "get_sample_model_config_yaml_file(export_dir=\"config\")"
   ]
  },
  {
   "cell_type": "code",
   "execution_count": 3,
   "metadata": {},
   "outputs": [],
   "source": [
    "# We should use the file generated above, but it has pulled the data from the project's code\n",
    "# and the project code is yet to be completed.\n",
    "# So, we have copied the content of the file 'model_1.yaml' into the file 'model.yaml' manually.\n",
    "# Now, we will use the edited one from 'project -> notebook -> config -> model.yaml' file\n",
    "model_config_file=r\"/home/honey/Desktop/Ineuron_ML_Project/ml_project/notebook/config/model.yaml\""
   ]
  },
  {
   "cell_type": "code",
   "execution_count": 7,
   "metadata": {},
   "outputs": [],
   "source": [
    "# Creating an object of ModelFactory by giving 'model.yaml' as an input\n",
    "model_factory = ModelFactory(model_config_path=model_config_file)"
   ]
  },
  {
   "cell_type": "code",
   "execution_count": 8,
   "metadata": {},
   "outputs": [
    {
     "name": "stdout",
     "output_type": "stream",
     "text": [
      "{'fit_intercept': True}\n",
      "{'n_estimators': 40, 'min_samples_leaf': 2}\n"
     ]
    }
   ],
   "source": [
    "model_list = model_factory.get_initialized_model_list()"
   ]
  },
  {
   "cell_type": "code",
   "execution_count": 9,
   "metadata": {},
   "outputs": [
    {
     "data": {
      "text/plain": [
       "[InitializedModelDetail(model_serial_number='module_0', model=LinearRegression(), param_grid_search={'fit_intercept': [True, False]}, model_name='sklearn.linear_model.LinearRegression'),\n",
       " InitializedModelDetail(model_serial_number='module_1', model=RandomForestRegressor(min_samples_leaf=2, n_estimators=40), param_grid_search={'min_samples_leaf': [2, 4, 6], 'n_estimators': [50, 100, 80]}, model_name='sklearn.ensemble.RandomForestRegressor')]"
      ]
     },
     "execution_count": 9,
     "metadata": {},
     "output_type": "execute_result"
    }
   ],
   "source": [
    "# Let us see what we have got in 'model_list'\n",
    "# We get a list of NamedTuples\n",
    "model_list"
   ]
  },
  {
   "cell_type": "code",
   "execution_count": 10,
   "metadata": {},
   "outputs": [
    {
     "data": {
      "text/plain": [
       "2"
      ]
     },
     "execution_count": 10,
     "metadata": {},
     "output_type": "execute_result"
    }
   ],
   "source": [
    "len(model_list)"
   ]
  },
  {
   "cell_type": "code",
   "execution_count": 13,
   "metadata": {},
   "outputs": [
    {
     "data": {
      "text/plain": [
       "InitializedModelDetail(model_serial_number='module_1', model=RandomForestRegressor(min_samples_leaf=2, n_estimators=40), param_grid_search={'min_samples_leaf': [2, 4, 6], 'n_estimators': [50, 100, 80]}, model_name='sklearn.ensemble.RandomForestRegressor')"
      ]
     },
     "execution_count": 13,
     "metadata": {},
     "output_type": "execute_result"
    }
   ],
   "source": [
    "model_list[1]"
   ]
  },
  {
   "cell_type": "code",
   "execution_count": 12,
   "metadata": {},
   "outputs": [],
   "source": [
    "# Let us use the below data to train the model\n",
    "# We stored the transformed data as a numpy array\n",
    "data_file_path=r\"/home/honey/Desktop/Ineuron_ML_Project/ml_project/housing/artifact/data_transformation/2022-08-25-12-23-14/transformed_data/train/housing.npz\""
   ]
  },
  {
   "cell_type": "code",
   "execution_count": 13,
   "metadata": {},
   "outputs": [],
   "source": [
    "# Loading the transformed train data\n",
    "from housing.util.util import load_numpy_array_data\n",
    "data = load_numpy_array_data(data_file_path)"
   ]
  },
  {
   "cell_type": "code",
   "execution_count": 14,
   "metadata": {},
   "outputs": [],
   "source": [
    "# Extracting the input and output features\n",
    "x,y = data[:,:-1],data[:,-1]"
   ]
  },
  {
   "cell_type": "code",
   "execution_count": 15,
   "metadata": {},
   "outputs": [
    {
     "name": "stdout",
     "output_type": "stream",
     "text": [
      "{'fit_intercept': True}\n",
      "{'n_estimators': 40, 'min_samples_leaf': 2}\n",
      "{'cv': 4, 'verbose': 2}\n",
      "Fitting 4 folds for each of 2 candidates, totalling 8 fits\n",
      "[CV] END .................................fit_intercept=True; total time=   0.0s\n",
      "[CV] END .................................fit_intercept=True; total time=   0.0s\n",
      "[CV] END .................................fit_intercept=True; total time=   0.0s\n",
      "[CV] END .................................fit_intercept=True; total time=   0.0s\n",
      "[CV] END ................................fit_intercept=False; total time=   0.0s\n",
      "[CV] END ................................fit_intercept=False; total time=   0.0s\n",
      "[CV] END ................................fit_intercept=False; total time=   0.0s\n",
      "[CV] END ................................fit_intercept=False; total time=   0.0s\n",
      "{'cv': 4, 'verbose': 2}\n",
      "Fitting 4 folds for each of 9 candidates, totalling 36 fits\n",
      "[CV] END ................min_samples_leaf=2, n_estimators=50; total time=   4.3s\n",
      "[CV] END ................min_samples_leaf=2, n_estimators=50; total time=   4.3s\n",
      "[CV] END ................min_samples_leaf=2, n_estimators=50; total time=   4.5s\n",
      "[CV] END ................min_samples_leaf=2, n_estimators=50; total time=   4.3s\n",
      "[CV] END ...............min_samples_leaf=2, n_estimators=100; total time=   8.5s\n",
      "[CV] END ...............min_samples_leaf=2, n_estimators=100; total time=   8.6s\n",
      "[CV] END ...............min_samples_leaf=2, n_estimators=100; total time=   8.5s\n",
      "[CV] END ...............min_samples_leaf=2, n_estimators=100; total time=   8.6s\n",
      "[CV] END ................min_samples_leaf=2, n_estimators=80; total time=   6.8s\n",
      "[CV] END ................min_samples_leaf=2, n_estimators=80; total time=   6.8s\n",
      "[CV] END ................min_samples_leaf=2, n_estimators=80; total time=   6.8s\n",
      "[CV] END ................min_samples_leaf=2, n_estimators=80; total time=   6.8s\n",
      "[CV] END ................min_samples_leaf=4, n_estimators=50; total time=   3.8s\n",
      "[CV] END ................min_samples_leaf=4, n_estimators=50; total time=   3.8s\n",
      "[CV] END ................min_samples_leaf=4, n_estimators=50; total time=   3.8s\n",
      "[CV] END ................min_samples_leaf=4, n_estimators=50; total time=   3.9s\n",
      "[CV] END ...............min_samples_leaf=4, n_estimators=100; total time=   7.7s\n",
      "[CV] END ...............min_samples_leaf=4, n_estimators=100; total time=   7.7s\n",
      "[CV] END ...............min_samples_leaf=4, n_estimators=100; total time=   7.7s\n",
      "[CV] END ...............min_samples_leaf=4, n_estimators=100; total time=   7.8s\n",
      "[CV] END ................min_samples_leaf=4, n_estimators=80; total time=   6.0s\n",
      "[CV] END ................min_samples_leaf=4, n_estimators=80; total time=   6.1s\n",
      "[CV] END ................min_samples_leaf=4, n_estimators=80; total time=   6.2s\n",
      "[CV] END ................min_samples_leaf=4, n_estimators=80; total time=   6.3s\n",
      "[CV] END ................min_samples_leaf=6, n_estimators=50; total time=   3.6s\n",
      "[CV] END ................min_samples_leaf=6, n_estimators=50; total time=   3.6s\n",
      "[CV] END ................min_samples_leaf=6, n_estimators=50; total time=   3.6s\n",
      "[CV] END ................min_samples_leaf=6, n_estimators=50; total time=   3.6s\n",
      "[CV] END ...............min_samples_leaf=6, n_estimators=100; total time=   7.2s\n",
      "[CV] END ...............min_samples_leaf=6, n_estimators=100; total time=   7.2s\n",
      "[CV] END ...............min_samples_leaf=6, n_estimators=100; total time=   7.2s\n",
      "[CV] END ...............min_samples_leaf=6, n_estimators=100; total time=   7.4s\n",
      "[CV] END ................min_samples_leaf=6, n_estimators=80; total time=   5.9s\n",
      "[CV] END ................min_samples_leaf=6, n_estimators=80; total time=   5.8s\n",
      "[CV] END ................min_samples_leaf=6, n_estimators=80; total time=   6.0s\n",
      "[CV] END ................min_samples_leaf=6, n_estimators=80; total time=   5.8s\n"
     ]
    }
   ],
   "source": [
    "# Using the model_factory.py to get the best_model from the ones mentioned in 'model.yaml'\n",
    "best_model = model_factory.get_best_model(x,y)"
   ]
  },
  {
   "cell_type": "code",
   "execution_count": 16,
   "metadata": {},
   "outputs": [
    {
     "data": {
      "text/plain": [
       "GridSearchedBestModel(model_serial_number='module_1', model=RandomForestRegressor(min_samples_leaf=2, n_estimators=40), best_model=RandomForestRegressor(min_samples_leaf=2), best_parameters={'min_samples_leaf': 2, 'n_estimators': 100}, best_score=0.8054921642323699)"
      ]
     },
     "execution_count": 16,
     "metadata": {},
     "output_type": "execute_result"
    }
   ],
   "source": [
    "best_model"
   ]
  },
  {
   "cell_type": "code",
   "execution_count": 19,
   "metadata": {},
   "outputs": [
    {
     "data": {
      "text/plain": [
       "RandomForestRegressor(min_samples_leaf=2, n_estimators=40)"
      ]
     },
     "execution_count": 19,
     "metadata": {},
     "output_type": "execute_result"
    }
   ],
   "source": [
    "best_model.model"
   ]
  },
  {
   "cell_type": "code",
   "execution_count": 17,
   "metadata": {},
   "outputs": [
    {
     "data": {
      "text/plain": [
       "RandomForestRegressor(min_samples_leaf=2)"
      ]
     },
     "execution_count": 17,
     "metadata": {},
     "output_type": "execute_result"
    }
   ],
   "source": [
    "best_model.best_model"
   ]
  },
  {
   "cell_type": "code",
   "execution_count": null,
   "metadata": {},
   "outputs": [],
   "source": []
  },
  {
   "cell_type": "code",
   "execution_count": 20,
   "metadata": {},
   "outputs": [
    {
     "data": {
      "text/plain": [
       "[GridSearchedBestModel(model_serial_number='module_0', model=LinearRegression(), best_model=LinearRegression(fit_intercept=False), best_parameters={'fit_intercept': False}, best_score=0.6393153733825999),\n",
       " GridSearchedBestModel(model_serial_number='module_1', model=RandomForestRegressor(min_samples_leaf=2, n_estimators=40), best_model=RandomForestRegressor(min_samples_leaf=2), best_parameters={'min_samples_leaf': 2, 'n_estimators': 100}, best_score=0.8054921642323699)]"
      ]
     },
     "execution_count": 20,
     "metadata": {},
     "output_type": "execute_result"
    }
   ],
   "source": [
    "# To get the result of all the tried models\n",
    "model_factory.grid_searched_best_model_list"
   ]
  },
  {
   "cell_type": "code",
   "execution_count": 21,
   "metadata": {},
   "outputs": [
    {
     "data": {
      "text/plain": [
       "GridSearchedBestModel(model_serial_number='module_0', model=LinearRegression(), best_model=LinearRegression(fit_intercept=False), best_parameters={'fit_intercept': False}, best_score=0.6393153733825999)"
      ]
     },
     "execution_count": 21,
     "metadata": {},
     "output_type": "execute_result"
    }
   ],
   "source": [
    "model_factory.grid_searched_best_model_list[0]"
   ]
  },
  {
   "cell_type": "code",
   "execution_count": 22,
   "metadata": {},
   "outputs": [
    {
     "data": {
      "text/plain": [
       "[InitializedModelDetail(model_serial_number='module_0', model=LinearRegression(), param_grid_search={'fit_intercept': [True, False]}, model_name='sklearn.linear_model.LinearRegression'),\n",
       " InitializedModelDetail(model_serial_number='module_1', model=RandomForestRegressor(min_samples_leaf=2, n_estimators=40), param_grid_search={'min_samples_leaf': [2, 4, 6], 'n_estimators': [50, 100, 80]}, model_name='sklearn.ensemble.RandomForestRegressor')]"
      ]
     },
     "execution_count": 22,
     "metadata": {},
     "output_type": "execute_result"
    }
   ],
   "source": [
    "model_factory.initialized_model_list"
   ]
  },
  {
   "cell_type": "code",
   "execution_count": null,
   "metadata": {},
   "outputs": [],
   "source": []
  }
 ],
 "metadata": {
  "kernelspec": {
   "display_name": "Python 3.7.13 (conda)",
   "language": "python",
   "name": "python3"
  },
  "language_info": {
   "codemirror_mode": {
    "name": "ipython",
    "version": 3
   },
   "file_extension": ".py",
   "mimetype": "text/x-python",
   "name": "python",
   "nbconvert_exporter": "python",
   "pygments_lexer": "ipython3",
   "version": "3.7.13"
  },
  "orig_nbformat": 4,
  "vscode": {
   "interpreter": {
    "hash": "ad8b97c174d96cf2c331a7e088d126d0135e9718da0e021e345400d664984eec"
   }
  }
 },
 "nbformat": 4,
 "nbformat_minor": 2
}
