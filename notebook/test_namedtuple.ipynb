{
 "cells": [
  {
   "cell_type": "markdown",
   "metadata": {},
   "source": [
    "# Named-Tuple"
   ]
  },
  {
   "cell_type": "code",
   "execution_count": 2,
   "metadata": {},
   "outputs": [],
   "source": [
    "from collections import namedtuple"
   ]
  },
  {
   "cell_type": "code",
   "execution_count": 13,
   "metadata": {},
   "outputs": [],
   "source": [
    "# a namedtuple class-like object is created. \n",
    "TupleClassHoney = namedtuple('TupleNameHoney', ['latitude', 'longitude'])\n"
   ]
  },
  {
   "cell_type": "code",
   "execution_count": 27,
   "metadata": {},
   "outputs": [
    {
     "data": {
      "text/plain": [
       "__main__.TupleNameHoney"
      ]
     },
     "execution_count": 27,
     "metadata": {},
     "output_type": "execute_result"
    }
   ],
   "source": [
    "TupleClassHoney"
   ]
  },
  {
   "cell_type": "code",
   "execution_count": 22,
   "metadata": {},
   "outputs": [
    {
     "data": {
      "text/plain": [
       "TupleNameHoney(latitude=23, longitude=3)"
      ]
     },
     "execution_count": 22,
     "metadata": {},
     "output_type": "execute_result"
    }
   ],
   "source": [
    "# Let us create a namedtuple\n",
    "firstInstance = TupleClassHoney(23,3)\n",
    "firstInstance"
   ]
  },
  {
   "cell_type": "code",
   "execution_count": 23,
   "metadata": {},
   "outputs": [
    {
     "data": {
      "text/plain": [
       "TupleNameHoney(latitude=46, longitude=2)"
      ]
     },
     "execution_count": 23,
     "metadata": {},
     "output_type": "execute_result"
    }
   ],
   "source": [
    "# Let us create another namedtuple\n",
    "secondInstance = TupleClassHoney(46,2)\n",
    "secondInstance\n"
   ]
  },
  {
   "cell_type": "code",
   "execution_count": 24,
   "metadata": {},
   "outputs": [
    {
     "data": {
      "text/plain": [
       "46"
      ]
     },
     "execution_count": 24,
     "metadata": {},
     "output_type": "execute_result"
    }
   ],
   "source": [
    "secondInstance.latitude"
   ]
  },
  {
   "cell_type": "markdown",
   "metadata": {},
   "source": [
    "# An another example"
   ]
  },
  {
   "cell_type": "code",
   "execution_count": 3,
   "metadata": {},
   "outputs": [
    {
     "name": "stdout",
     "output_type": "stream",
     "text": [
      "The Student age using index is : 19\n",
      "The Student name using keyname is : Nandini\n"
     ]
    }
   ],
   "source": [
    "from collections import namedtuple\n",
    " \n",
    "# Declaring namedtuple()\n",
    "Student = namedtuple('Student', ['name', 'age', 'DOB'])\n",
    " \n",
    "# Adding values\n",
    "S = Student('Nandini', '19', '2541997')\n",
    " \n",
    "# Access using index\n",
    "print(\"The Student age using index is : \", end=\"\")\n",
    "print(S[1])\n",
    " \n",
    "# Access using name\n",
    "print(\"The Student name using keyname is : \", end=\"\")\n",
    "print(S.name)"
   ]
  },
  {
   "cell_type": "markdown",
   "metadata": {},
   "source": [
    "# An example related to the project"
   ]
  },
  {
   "cell_type": "markdown",
   "metadata": {},
   "source": [
    "\n",
    "\n",
    "    1. Download url -> from where the data to be downloaded\n",
    "    2. Download folder (compressed file) -> where the compressed is to be saved\n",
    "    3. Extract folder (extracted file)) -> where the compressed is to be extracted\n",
    "    4. Train dataset folder -> where the train dataset to be saved\n",
    "    5. Test dataset folder -> where the test dataset to be saved\n",
    "\n"
   ]
  },
  {
   "cell_type": "code",
   "execution_count": 4,
   "metadata": {},
   "outputs": [],
   "source": [
    "# This is the definition of a named-tuple\n",
    "DataIngestionConfig=namedtuple(\"DataIngestionConfig\",\n",
    "[\"dataset_download_url\",\"tgz_download_dir\",\"raw_data_dir\",\"ingested_train_dir\",\"ingested_test_dir\"])"
   ]
  },
  {
   "cell_type": "code",
   "execution_count": 15,
   "metadata": {},
   "outputs": [],
   "source": [
    "# Using the above created definition to create a named-tuple\n",
    "data_ingestion_config = DataIngestionConfig(dataset_download_url=\"asfasdf\",\n",
    "tgz_download_dir='asdasd',\n",
    "raw_data_dir=\"asdas\",\n",
    "ingested_train_dir=\"asdbfk\",\n",
    "ingested_test_dir=\"sadnjk\"\n",
    ")\n",
    "\n"
   ]
  },
  {
   "cell_type": "code",
   "execution_count": 6,
   "metadata": {},
   "outputs": [
    {
     "data": {
      "text/plain": [
       "DataIngestionConfig(dataset_download_url='asfasdf', tgz_download_dir='asdasd', raw_data_dir='asdas', ingested_train_dir='asdbfk', ingested_test_dir='sadnjk')"
      ]
     },
     "execution_count": 6,
     "metadata": {},
     "output_type": "execute_result"
    }
   ],
   "source": [
    "data_ingestion_config"
   ]
  }
 ],
 "metadata": {
  "kernelspec": {
   "display_name": "Python 3.7.13 (conda)",
   "language": "python",
   "name": "python3"
  },
  "language_info": {
   "codemirror_mode": {
    "name": "ipython",
    "version": 3
   },
   "file_extension": ".py",
   "mimetype": "text/x-python",
   "name": "python",
   "nbconvert_exporter": "python",
   "pygments_lexer": "ipython3",
   "version": "3.7.13"
  },
  "orig_nbformat": 4,
  "vscode": {
   "interpreter": {
    "hash": "ad8b97c174d96cf2c331a7e088d126d0135e9718da0e021e345400d664984eec"
   }
  }
 },
 "nbformat": 4,
 "nbformat_minor": 2
}
