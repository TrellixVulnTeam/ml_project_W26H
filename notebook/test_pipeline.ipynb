{
 "cells": [
  {
   "cell_type": "markdown",
   "metadata": {},
   "source": [
    "# Class-Level attributes"
   ]
  },
  {
   "cell_type": "code",
   "execution_count": 1,
   "metadata": {},
   "outputs": [],
   "source": [
    "import os\n",
    "# Change to parent directory.\n",
    "os.chdir(os.pardir)"
   ]
  },
  {
   "cell_type": "code",
   "execution_count": 2,
   "metadata": {},
   "outputs": [
    {
     "data": {
      "text/plain": [
       "'/home/honey/Desktop/Ineuron_ML_Project/ml_project'"
      ]
     },
     "execution_count": 2,
     "metadata": {},
     "output_type": "execute_result"
    }
   ],
   "source": [
    "os.getcwd()"
   ]
  },
  {
   "cell_type": "code",
   "execution_count": 3,
   "metadata": {},
   "outputs": [
    {
     "data": {
      "text/plain": [
       "'/home/honey/Desktop/Ineuron_ML_Project/ml_project/config/config.yaml'"
      ]
     },
     "execution_count": 3,
     "metadata": {},
     "output_type": "execute_result"
    }
   ],
   "source": [
    "os.path.join(os.getcwd(),\"config\",\"config.yaml\")"
   ]
  },
  {
   "cell_type": "code",
   "execution_count": 4,
   "metadata": {},
   "outputs": [],
   "source": [
    "config_file_path = os.path.join(os.getcwd(),\"config\",\"config.yaml\")"
   ]
  },
  {
   "cell_type": "code",
   "execution_count": 5,
   "metadata": {},
   "outputs": [],
   "source": [
    "from housing.pipeline.pipeline import Pipeline"
   ]
  },
  {
   "cell_type": "code",
   "execution_count": 6,
   "metadata": {},
   "outputs": [],
   "source": [
    "from housing.config.configuration import Configuartion"
   ]
  },
  {
   "cell_type": "code",
   "execution_count": 7,
   "metadata": {},
   "outputs": [],
   "source": [
    "# Creating a Conguration object\n",
    "config = Configuartion(config_file_path=config_file_path)"
   ]
  },
  {
   "cell_type": "code",
   "execution_count": 8,
   "metadata": {},
   "outputs": [
    {
     "data": {
      "text/plain": [
       "TrainingPipelineConfig(artifact_dir='/home/honey/Desktop/Ineuron_ML_Project/ml_project/housing/artifact')"
      ]
     },
     "execution_count": 8,
     "metadata": {},
     "output_type": "execute_result"
    }
   ],
   "source": [
    "config.get_training_pipeline_config()"
   ]
  },
  {
   "cell_type": "code",
   "execution_count": 9,
   "metadata": {},
   "outputs": [],
   "source": [
    "# Creating a pipeline object\n",
    "pipeline =Pipeline(config=config)"
   ]
  },
  {
   "cell_type": "code",
   "execution_count": 10,
   "metadata": {},
   "outputs": [
    {
     "data": {
      "text/plain": [
       "Experiment(experiment_id=None, initialization_timestamp=None, artifact_time_stamp=None, running_status=None, start_time=None, stop_time=None, execution_time=None, message=None, experiment_file_path=None, accuracy=None, is_model_accepted=None)"
      ]
     },
     "execution_count": 10,
     "metadata": {},
     "output_type": "execute_result"
    }
   ],
   "source": [
    "Pipeline.experiment  # this is same as 'pipeline.experiment' since it is class-level attribute."
   ]
  },
  {
   "cell_type": "code",
   "execution_count": 11,
   "metadata": {},
   "outputs": [],
   "source": [
    "# Trying create another pipeline object\n",
    "pipeline1 = Pipeline(config=config)"
   ]
  },
  {
   "cell_type": "code",
   "execution_count": 12,
   "metadata": {},
   "outputs": [
    {
     "data": {
      "text/plain": [
       "Experiment(experiment_id=None, initialization_timestamp=None, artifact_time_stamp=None, running_status=None, start_time=None, stop_time=None, execution_time=None, message=None, experiment_file_path=None, accuracy=None, is_model_accepted=None)"
      ]
     },
     "execution_count": 12,
     "metadata": {},
     "output_type": "execute_result"
    }
   ],
   "source": [
    "# Note that 'experiment' is a class-level attribute, so it is available to\n",
    "# all Pipeline class, and its all objects.\n",
    "# See the running status\n",
    "pipeline.experiment"
   ]
  },
  {
   "cell_type": "code",
   "execution_count": 13,
   "metadata": {},
   "outputs": [
    {
     "data": {
      "text/plain": [
       "Experiment(experiment_id=None, initialization_timestamp=None, artifact_time_stamp=None, running_status=None, start_time=None, stop_time=None, execution_time=None, message=None, experiment_file_path=None, accuracy=None, is_model_accepted=None)"
      ]
     },
     "execution_count": 13,
     "metadata": {},
     "output_type": "execute_result"
    }
   ],
   "source": [
    "# See the running status\n",
    "pipeline1.experiment"
   ]
  },
  {
   "cell_type": "code",
   "execution_count": 14,
   "metadata": {},
   "outputs": [],
   "source": [
    "# Starting a pipeline\n",
    "pipeline.start()"
   ]
  },
  {
   "cell_type": "code",
   "execution_count": 15,
   "metadata": {},
   "outputs": [
    {
     "data": {
      "text/plain": [
       "Experiment(experiment_id='72934966-d466-4a2d-9ea2-67cd358f5f5d', initialization_timestamp='2022-09-06-18-55-59', artifact_time_stamp='2022-09-06-18-55-59', running_status=True, start_time=datetime.datetime(2022, 9, 6, 18, 56, 0, 858921), stop_time=None, execution_time=None, message='Pipeline has been started.', experiment_file_path='/home/honey/Desktop/Ineuron_ML_Project/ml_project/housing/artifact/experiment/experiment.csv', accuracy=None, is_model_accepted=None)"
      ]
     },
     "execution_count": 15,
     "metadata": {},
     "output_type": "execute_result"
    }
   ],
   "source": [
    "# Using the Class object\n",
    "# See the running status\n",
    "pipeline.experiment"
   ]
  },
  {
   "cell_type": "code",
   "execution_count": 16,
   "metadata": {},
   "outputs": [
    {
     "data": {
      "text/plain": [
       "Experiment(experiment_id='72934966-d466-4a2d-9ea2-67cd358f5f5d', initialization_timestamp='2022-09-06-18-55-59', artifact_time_stamp='2022-09-06-18-55-59', running_status=True, start_time=datetime.datetime(2022, 9, 6, 18, 56, 0, 858921), stop_time=None, execution_time=None, message='Pipeline has been started.', experiment_file_path='/home/honey/Desktop/Ineuron_ML_Project/ml_project/housing/artifact/experiment/experiment.csv', accuracy=None, is_model_accepted=None)"
      ]
     },
     "execution_count": 16,
     "metadata": {},
     "output_type": "execute_result"
    }
   ],
   "source": [
    "# Using the Class object\n",
    "# See the running status\n",
    "pipeline1.experiment"
   ]
  },
  {
   "cell_type": "code",
   "execution_count": 17,
   "metadata": {},
   "outputs": [
    {
     "data": {
      "text/plain": [
       "Experiment(experiment_id='72934966-d466-4a2d-9ea2-67cd358f5f5d', initialization_timestamp='2022-09-06-18-55-59', artifact_time_stamp='2022-09-06-18-55-59', running_status=True, start_time=datetime.datetime(2022, 9, 6, 18, 56, 0, 858921), stop_time=None, execution_time=None, message='Pipeline has been started.', experiment_file_path='/home/honey/Desktop/Ineuron_ML_Project/ml_project/housing/artifact/experiment/experiment.csv', accuracy=None, is_model_accepted=None)"
      ]
     },
     "execution_count": 17,
     "metadata": {},
     "output_type": "execute_result"
    },
    {
     "name": "stdout",
     "output_type": "stream",
     "text": [
      "{'fit_intercept': True}\n",
      "{'min_samples_leaf': 3}\n",
      "{'cv': 5, 'verbose': 2}\n",
      "Fitting 5 folds for each of 2 candidates, totalling 10 fits\n",
      "[CV] END .................................fit_intercept=True; total time=   0.0s\n",
      "[CV] END .................................fit_intercept=True; total time=   0.0s\n",
      "[CV] END .................................fit_intercept=True; total time=   0.0s\n",
      "[CV] END .................................fit_intercept=True; total time=   0.0s\n",
      "[CV] END .................................fit_intercept=True; total time=   0.0s\n",
      "[CV] END ................................fit_intercept=False; total time=   0.0s\n",
      "[CV] END ................................fit_intercept=False; total time=   0.0s\n",
      "[CV] END ................................fit_intercept=False; total time=   0.0s\n",
      "[CV] END ................................fit_intercept=False; total time=   0.0s\n",
      "[CV] END ................................fit_intercept=False; total time=   0.0s\n",
      "{'cv': 5, 'verbose': 2}\n",
      "Fitting 5 folds for each of 1 candidates, totalling 5 fits\n",
      "[CV] END .................................min_samples_leaf=4; total time=   8.5s\n",
      "[CV] END .................................min_samples_leaf=4; total time=   8.2s\n",
      "[CV] END .................................min_samples_leaf=4; total time=   8.2s\n",
      "[CV] END .................................min_samples_leaf=4; total time=   9.6s\n",
      "[CV] END .................................min_samples_leaf=4; total time=   8.4s\n"
     ]
    }
   ],
   "source": [
    "# Using class name\n",
    "# See the running status\n",
    "Pipeline.experiment"
   ]
  },
  {
   "cell_type": "code",
   "execution_count": 18,
   "metadata": {},
   "outputs": [
    {
     "data": {
      "text/plain": [
       "'/home/honey/Desktop/Ineuron_ML_Project/ml_project/housing/artifact/experiment/experiment.csv'"
      ]
     },
     "execution_count": 18,
     "metadata": {},
     "output_type": "execute_result"
    }
   ],
   "source": [
    "# Where my experiment details are getting written.\n",
    "Pipeline.experiment.experiment_file_path"
   ]
  },
  {
   "cell_type": "code",
   "execution_count": 19,
   "metadata": {},
   "outputs": [
    {
     "ename": "RuntimeError",
     "evalue": "threads can only be started once",
     "output_type": "error",
     "traceback": [
      "\u001b[0;31m---------------------------------------------------------------------------\u001b[0m",
      "\u001b[0;31mRuntimeError\u001b[0m                              Traceback (most recent call last)",
      "\u001b[0;32m/tmp/ipykernel_56301/506032463.py\u001b[0m in \u001b[0;36m<module>\u001b[0;34m\u001b[0m\n\u001b[0;32m----> 1\u001b[0;31m \u001b[0mpipeline\u001b[0m\u001b[0;34m.\u001b[0m\u001b[0mstart\u001b[0m\u001b[0;34m(\u001b[0m\u001b[0;34m)\u001b[0m\u001b[0;34m\u001b[0m\u001b[0;34m\u001b[0m\u001b[0m\n\u001b[0m",
      "\u001b[0;32m~/Desktop/Ineuron_ML_Project/ml_project/venv/lib/python3.7/threading.py\u001b[0m in \u001b[0;36mstart\u001b[0;34m(self)\u001b[0m\n\u001b[1;32m    846\u001b[0m \u001b[0;34m\u001b[0m\u001b[0m\n\u001b[1;32m    847\u001b[0m         \u001b[0;32mif\u001b[0m \u001b[0mself\u001b[0m\u001b[0;34m.\u001b[0m\u001b[0m_started\u001b[0m\u001b[0;34m.\u001b[0m\u001b[0mis_set\u001b[0m\u001b[0;34m(\u001b[0m\u001b[0;34m)\u001b[0m\u001b[0;34m:\u001b[0m\u001b[0;34m\u001b[0m\u001b[0;34m\u001b[0m\u001b[0m\n\u001b[0;32m--> 848\u001b[0;31m             \u001b[0;32mraise\u001b[0m \u001b[0mRuntimeError\u001b[0m\u001b[0;34m(\u001b[0m\u001b[0;34m\"threads can only be started once\"\u001b[0m\u001b[0;34m)\u001b[0m\u001b[0;34m\u001b[0m\u001b[0;34m\u001b[0m\u001b[0m\n\u001b[0m\u001b[1;32m    849\u001b[0m         \u001b[0;32mwith\u001b[0m \u001b[0m_active_limbo_lock\u001b[0m\u001b[0;34m:\u001b[0m\u001b[0;34m\u001b[0m\u001b[0;34m\u001b[0m\u001b[0m\n\u001b[1;32m    850\u001b[0m             \u001b[0m_limbo\u001b[0m\u001b[0;34m[\u001b[0m\u001b[0mself\u001b[0m\u001b[0;34m]\u001b[0m \u001b[0;34m=\u001b[0m \u001b[0mself\u001b[0m\u001b[0;34m\u001b[0m\u001b[0;34m\u001b[0m\u001b[0m\n",
      "\u001b[0;31mRuntimeError\u001b[0m: threads can only be started once"
     ]
    }
   ],
   "source": [
    "# Note that the same thread cannot be started again n again.\n",
    "pipeline.start()"
   ]
  },
  {
   "cell_type": "code",
   "execution_count": 31,
   "metadata": {},
   "outputs": [
    {
     "data": {
      "text/plain": [
       "Experiment(experiment_id='02204372-e39b-4f7e-8af8-fef1f973b031', initialization_timestamp='2022-09-06-18-55-59', artifact_time_stamp='2022-09-06-18-55-59', running_status=True, start_time=datetime.datetime(2022, 9, 6, 19, 1, 10, 347090), stop_time=None, execution_time=None, message='Pipeline has been started.', experiment_file_path='/home/honey/Desktop/Ineuron_ML_Project/ml_project/housing/artifact/experiment/experiment.csv', accuracy=None, is_model_accepted=None)"
      ]
     },
     "execution_count": 31,
     "metadata": {},
     "output_type": "execute_result"
    }
   ],
   "source": [
    "# Instead of using thread, lets start the pipeline\n",
    "pipeline.run_pipeline()"
   ]
  },
  {
   "cell_type": "code",
   "execution_count": 30,
   "metadata": {},
   "outputs": [
    {
     "data": {
      "text/plain": [
       "Experiment(experiment_id='02204372-e39b-4f7e-8af8-fef1f973b031', initialization_timestamp='2022-09-06-18-55-59', artifact_time_stamp='2022-09-06-18-55-59', running_status=True, start_time=datetime.datetime(2022, 9, 6, 19, 1, 10, 347090), stop_time=None, execution_time=None, message='Pipeline has been started.', experiment_file_path='/home/honey/Desktop/Ineuron_ML_Project/ml_project/housing/artifact/experiment/experiment.csv', accuracy=None, is_model_accepted=None)"
      ]
     },
     "execution_count": 30,
     "metadata": {},
     "output_type": "execute_result"
    }
   ],
   "source": [
    "pipeline.experiment\n"
   ]
  },
  {
   "cell_type": "markdown",
   "metadata": {},
   "source": [
    "# Returning the last five records of experiment.csv"
   ]
  },
  {
   "cell_type": "code",
   "execution_count": 26,
   "metadata": {},
   "outputs": [],
   "source": [
    "from housing.pipeline.pipeline import Pipeline"
   ]
  },
  {
   "cell_type": "code",
   "execution_count": 29,
   "metadata": {},
   "outputs": [
    {
     "data": {
      "text/html": [
       "<div>\n",
       "<style scoped>\n",
       "    .dataframe tbody tr th:only-of-type {\n",
       "        vertical-align: middle;\n",
       "    }\n",
       "\n",
       "    .dataframe tbody tr th {\n",
       "        vertical-align: top;\n",
       "    }\n",
       "\n",
       "    .dataframe thead th {\n",
       "        text-align: right;\n",
       "    }\n",
       "</style>\n",
       "<table border=\"1\" class=\"dataframe\">\n",
       "  <thead>\n",
       "    <tr style=\"text-align: right;\">\n",
       "      <th></th>\n",
       "      <th>experiment_id</th>\n",
       "      <th>artifact_time_stamp</th>\n",
       "      <th>running_status</th>\n",
       "      <th>start_time</th>\n",
       "      <th>stop_time</th>\n",
       "      <th>execution_time</th>\n",
       "      <th>message</th>\n",
       "      <th>accuracy</th>\n",
       "      <th>is_model_accepted</th>\n",
       "      <th>created_time_stamp</th>\n",
       "    </tr>\n",
       "  </thead>\n",
       "  <tbody>\n",
       "    <tr>\n",
       "      <th>22</th>\n",
       "      <td>11a257f5-3492-45b9-b3db-03656b6e4dd6</td>\n",
       "      <td>2022-09-06-18-46-52</td>\n",
       "      <td>True</td>\n",
       "      <td>2022-09-06 18:46:53.562034</td>\n",
       "      <td>NaN</td>\n",
       "      <td>NaN</td>\n",
       "      <td>Pipeline has been started.</td>\n",
       "      <td>NaN</td>\n",
       "      <td>NaN</td>\n",
       "      <td>2022-09-06 18:46:53.562459</td>\n",
       "    </tr>\n",
       "    <tr>\n",
       "      <th>23</th>\n",
       "      <td>11a257f5-3492-45b9-b3db-03656b6e4dd6</td>\n",
       "      <td>2022-09-06-18-46-52</td>\n",
       "      <td>False</td>\n",
       "      <td>2022-09-06 18:46:53.562034</td>\n",
       "      <td>2022-09-06 18:47:48.942570</td>\n",
       "      <td>0 days 00:00:55.380536</td>\n",
       "      <td>Pipeline has been completed.</td>\n",
       "      <td>0.652281</td>\n",
       "      <td>True</td>\n",
       "      <td>2022-09-06 18:47:48.942773</td>\n",
       "    </tr>\n",
       "    <tr>\n",
       "      <th>24</th>\n",
       "      <td>72934966-d466-4a2d-9ea2-67cd358f5f5d</td>\n",
       "      <td>2022-09-06-18-55-59</td>\n",
       "      <td>True</td>\n",
       "      <td>2022-09-06 18:56:00.858921</td>\n",
       "      <td>NaN</td>\n",
       "      <td>NaN</td>\n",
       "      <td>Pipeline has been started.</td>\n",
       "      <td>NaN</td>\n",
       "      <td>NaN</td>\n",
       "      <td>2022-09-06 18:56:00.859907</td>\n",
       "    </tr>\n",
       "    <tr>\n",
       "      <th>25</th>\n",
       "      <td>72934966-d466-4a2d-9ea2-67cd358f5f5d</td>\n",
       "      <td>2022-09-06-18-55-59</td>\n",
       "      <td>False</td>\n",
       "      <td>2022-09-06 18:56:00.858921</td>\n",
       "      <td>2022-09-06 18:56:57.738812</td>\n",
       "      <td>0 days 00:00:56.879891</td>\n",
       "      <td>Pipeline has been completed.</td>\n",
       "      <td>0.652281</td>\n",
       "      <td>True</td>\n",
       "      <td>2022-09-06 18:56:57.738979</td>\n",
       "    </tr>\n",
       "    <tr>\n",
       "      <th>26</th>\n",
       "      <td>02204372-e39b-4f7e-8af8-fef1f973b031</td>\n",
       "      <td>2022-09-06-18-55-59</td>\n",
       "      <td>True</td>\n",
       "      <td>2022-09-06 19:01:10.347090</td>\n",
       "      <td>NaN</td>\n",
       "      <td>NaN</td>\n",
       "      <td>Pipeline has been started.</td>\n",
       "      <td>NaN</td>\n",
       "      <td>NaN</td>\n",
       "      <td>2022-09-06 19:01:10.347228</td>\n",
       "    </tr>\n",
       "  </tbody>\n",
       "</table>\n",
       "</div>"
      ],
      "text/plain": [
       "                           experiment_id  artifact_time_stamp  running_status  \\\n",
       "22  11a257f5-3492-45b9-b3db-03656b6e4dd6  2022-09-06-18-46-52            True   \n",
       "23  11a257f5-3492-45b9-b3db-03656b6e4dd6  2022-09-06-18-46-52           False   \n",
       "24  72934966-d466-4a2d-9ea2-67cd358f5f5d  2022-09-06-18-55-59            True   \n",
       "25  72934966-d466-4a2d-9ea2-67cd358f5f5d  2022-09-06-18-55-59           False   \n",
       "26  02204372-e39b-4f7e-8af8-fef1f973b031  2022-09-06-18-55-59            True   \n",
       "\n",
       "                    start_time                   stop_time  \\\n",
       "22  2022-09-06 18:46:53.562034                         NaN   \n",
       "23  2022-09-06 18:46:53.562034  2022-09-06 18:47:48.942570   \n",
       "24  2022-09-06 18:56:00.858921                         NaN   \n",
       "25  2022-09-06 18:56:00.858921  2022-09-06 18:56:57.738812   \n",
       "26  2022-09-06 19:01:10.347090                         NaN   \n",
       "\n",
       "            execution_time                       message  accuracy  \\\n",
       "22                     NaN    Pipeline has been started.       NaN   \n",
       "23  0 days 00:00:55.380536  Pipeline has been completed.  0.652281   \n",
       "24                     NaN    Pipeline has been started.       NaN   \n",
       "25  0 days 00:00:56.879891  Pipeline has been completed.  0.652281   \n",
       "26                     NaN    Pipeline has been started.       NaN   \n",
       "\n",
       "   is_model_accepted          created_time_stamp  \n",
       "22               NaN  2022-09-06 18:46:53.562459  \n",
       "23              True  2022-09-06 18:47:48.942773  \n",
       "24               NaN  2022-09-06 18:56:00.859907  \n",
       "25              True  2022-09-06 18:56:57.738979  \n",
       "26               NaN  2022-09-06 19:01:10.347228  "
      ]
     },
     "execution_count": 29,
     "metadata": {},
     "output_type": "execute_result"
    }
   ],
   "source": [
    "Pipeline.get_experiments_status()"
   ]
  },
  {
   "cell_type": "markdown",
   "metadata": {},
   "source": [
    "# An Example"
   ]
  },
  {
   "cell_type": "code",
   "execution_count": 33,
   "metadata": {},
   "outputs": [],
   "source": [
    "import pandas as pd"
   ]
  },
  {
   "cell_type": "code",
   "execution_count": 35,
   "metadata": {},
   "outputs": [],
   "source": [
    "def get_experiments_status(experiment_file_path, limit: int = 5) -> pd.DataFrame:\n",
    "    if os.path.exists(experiment_file_path):\n",
    "        df = pd.read_csv(experiment_file_path)\n",
    "        limit = -1 * int(limit)\n",
    "        return df[limit:].drop(columns=[\"experiment_file_path\", \"initialization_timestamp\"], axis=1)\n",
    "    else:\n",
    "        return pd.DataFrame()\n",
    "        "
   ]
  },
  {
   "cell_type": "code",
   "execution_count": 36,
   "metadata": {},
   "outputs": [
    {
     "data": {
      "text/plain": [
       "'/home/honey/Desktop/Ineuron_ML_Project/ml_project/housing/artifact/experiment/experiment.csv'"
      ]
     },
     "execution_count": 36,
     "metadata": {},
     "output_type": "execute_result"
    }
   ],
   "source": [
    "Pipeline.experiment.experiment_file_path"
   ]
  },
  {
   "cell_type": "code",
   "execution_count": 37,
   "metadata": {},
   "outputs": [],
   "source": [
    "experiment_file_path = '/home/honey/Desktop/Ineuron_ML_Project/ml_project/housing/artifact/experiment/experiment.csv'"
   ]
  },
  {
   "cell_type": "code",
   "execution_count": 39,
   "metadata": {},
   "outputs": [
    {
     "data": {
      "text/html": [
       "<div>\n",
       "<style scoped>\n",
       "    .dataframe tbody tr th:only-of-type {\n",
       "        vertical-align: middle;\n",
       "    }\n",
       "\n",
       "    .dataframe tbody tr th {\n",
       "        vertical-align: top;\n",
       "    }\n",
       "\n",
       "    .dataframe thead th {\n",
       "        text-align: right;\n",
       "    }\n",
       "</style>\n",
       "<table border=\"1\" class=\"dataframe\">\n",
       "  <thead>\n",
       "    <tr style=\"text-align: right;\">\n",
       "      <th></th>\n",
       "      <th>experiment_id</th>\n",
       "      <th>artifact_time_stamp</th>\n",
       "      <th>running_status</th>\n",
       "      <th>start_time</th>\n",
       "      <th>stop_time</th>\n",
       "      <th>execution_time</th>\n",
       "      <th>message</th>\n",
       "      <th>accuracy</th>\n",
       "      <th>is_model_accepted</th>\n",
       "      <th>created_time_stamp</th>\n",
       "    </tr>\n",
       "  </thead>\n",
       "  <tbody>\n",
       "    <tr>\n",
       "      <th>22</th>\n",
       "      <td>11a257f5-3492-45b9-b3db-03656b6e4dd6</td>\n",
       "      <td>2022-09-06-18-46-52</td>\n",
       "      <td>True</td>\n",
       "      <td>2022-09-06 18:46:53.562034</td>\n",
       "      <td>NaN</td>\n",
       "      <td>NaN</td>\n",
       "      <td>Pipeline has been started.</td>\n",
       "      <td>NaN</td>\n",
       "      <td>NaN</td>\n",
       "      <td>2022-09-06 18:46:53.562459</td>\n",
       "    </tr>\n",
       "    <tr>\n",
       "      <th>23</th>\n",
       "      <td>11a257f5-3492-45b9-b3db-03656b6e4dd6</td>\n",
       "      <td>2022-09-06-18-46-52</td>\n",
       "      <td>False</td>\n",
       "      <td>2022-09-06 18:46:53.562034</td>\n",
       "      <td>2022-09-06 18:47:48.942570</td>\n",
       "      <td>0 days 00:00:55.380536</td>\n",
       "      <td>Pipeline has been completed.</td>\n",
       "      <td>0.652281</td>\n",
       "      <td>True</td>\n",
       "      <td>2022-09-06 18:47:48.942773</td>\n",
       "    </tr>\n",
       "    <tr>\n",
       "      <th>24</th>\n",
       "      <td>72934966-d466-4a2d-9ea2-67cd358f5f5d</td>\n",
       "      <td>2022-09-06-18-55-59</td>\n",
       "      <td>True</td>\n",
       "      <td>2022-09-06 18:56:00.858921</td>\n",
       "      <td>NaN</td>\n",
       "      <td>NaN</td>\n",
       "      <td>Pipeline has been started.</td>\n",
       "      <td>NaN</td>\n",
       "      <td>NaN</td>\n",
       "      <td>2022-09-06 18:56:00.859907</td>\n",
       "    </tr>\n",
       "    <tr>\n",
       "      <th>25</th>\n",
       "      <td>72934966-d466-4a2d-9ea2-67cd358f5f5d</td>\n",
       "      <td>2022-09-06-18-55-59</td>\n",
       "      <td>False</td>\n",
       "      <td>2022-09-06 18:56:00.858921</td>\n",
       "      <td>2022-09-06 18:56:57.738812</td>\n",
       "      <td>0 days 00:00:56.879891</td>\n",
       "      <td>Pipeline has been completed.</td>\n",
       "      <td>0.652281</td>\n",
       "      <td>True</td>\n",
       "      <td>2022-09-06 18:56:57.738979</td>\n",
       "    </tr>\n",
       "    <tr>\n",
       "      <th>26</th>\n",
       "      <td>02204372-e39b-4f7e-8af8-fef1f973b031</td>\n",
       "      <td>2022-09-06-18-55-59</td>\n",
       "      <td>True</td>\n",
       "      <td>2022-09-06 19:01:10.347090</td>\n",
       "      <td>NaN</td>\n",
       "      <td>NaN</td>\n",
       "      <td>Pipeline has been started.</td>\n",
       "      <td>NaN</td>\n",
       "      <td>NaN</td>\n",
       "      <td>2022-09-06 19:01:10.347228</td>\n",
       "    </tr>\n",
       "  </tbody>\n",
       "</table>\n",
       "</div>"
      ],
      "text/plain": [
       "                           experiment_id  artifact_time_stamp  running_status  \\\n",
       "22  11a257f5-3492-45b9-b3db-03656b6e4dd6  2022-09-06-18-46-52            True   \n",
       "23  11a257f5-3492-45b9-b3db-03656b6e4dd6  2022-09-06-18-46-52           False   \n",
       "24  72934966-d466-4a2d-9ea2-67cd358f5f5d  2022-09-06-18-55-59            True   \n",
       "25  72934966-d466-4a2d-9ea2-67cd358f5f5d  2022-09-06-18-55-59           False   \n",
       "26  02204372-e39b-4f7e-8af8-fef1f973b031  2022-09-06-18-55-59            True   \n",
       "\n",
       "                    start_time                   stop_time  \\\n",
       "22  2022-09-06 18:46:53.562034                         NaN   \n",
       "23  2022-09-06 18:46:53.562034  2022-09-06 18:47:48.942570   \n",
       "24  2022-09-06 18:56:00.858921                         NaN   \n",
       "25  2022-09-06 18:56:00.858921  2022-09-06 18:56:57.738812   \n",
       "26  2022-09-06 19:01:10.347090                         NaN   \n",
       "\n",
       "            execution_time                       message  accuracy  \\\n",
       "22                     NaN    Pipeline has been started.       NaN   \n",
       "23  0 days 00:00:55.380536  Pipeline has been completed.  0.652281   \n",
       "24                     NaN    Pipeline has been started.       NaN   \n",
       "25  0 days 00:00:56.879891  Pipeline has been completed.  0.652281   \n",
       "26                     NaN    Pipeline has been started.       NaN   \n",
       "\n",
       "   is_model_accepted          created_time_stamp  \n",
       "22               NaN  2022-09-06 18:46:53.562459  \n",
       "23              True  2022-09-06 18:47:48.942773  \n",
       "24               NaN  2022-09-06 18:56:00.859907  \n",
       "25              True  2022-09-06 18:56:57.738979  \n",
       "26               NaN  2022-09-06 19:01:10.347228  "
      ]
     },
     "execution_count": 39,
     "metadata": {},
     "output_type": "execute_result"
    }
   ],
   "source": [
    "get_experiments_status(experiment_file_path)"
   ]
  }
 ],
 "metadata": {
  "kernelspec": {
   "display_name": "Python 3.7.13 (conda)",
   "language": "python",
   "name": "python3"
  },
  "language_info": {
   "codemirror_mode": {
    "name": "ipython",
    "version": 3
   },
   "file_extension": ".py",
   "mimetype": "text/x-python",
   "name": "python",
   "nbconvert_exporter": "python",
   "pygments_lexer": "ipython3",
   "version": "3.7.13"
  },
  "orig_nbformat": 4,
  "vscode": {
   "interpreter": {
    "hash": "ad8b97c174d96cf2c331a7e088d126d0135e9718da0e021e345400d664984eec"
   }
  }
 },
 "nbformat": 4,
 "nbformat_minor": 2
}
